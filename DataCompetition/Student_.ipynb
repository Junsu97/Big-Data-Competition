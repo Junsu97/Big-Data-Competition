{
 "cells": [
  {
   "cell_type": "code",
   "execution_count": 1,
   "metadata": {},
   "outputs": [
    {
     "name": "stdout",
     "output_type": "stream",
     "text": [
      "Index(['동별(1)', '동별(2)', '동별(3)', '항목', '2020', '2020.1'], dtype='object')\n"
     ]
    },
    {
     "name": "stderr",
     "output_type": "stream",
     "text": [
      "c:\\python38-64\\lib\\site-packages\\IPython\\core\\pylabtools.py:152: UserWarning: Glyph 50684 (\\N{HANGUL SYLLABLE YEOM}) missing from current font.\n",
      "  fig.canvas.print_figure(bytes_io, **kw)\n",
      "c:\\python38-64\\lib\\site-packages\\IPython\\core\\pylabtools.py:152: UserWarning: Glyph 52285 (\\N{HANGUL SYLLABLE CANG}) missing from current font.\n",
      "  fig.canvas.print_figure(bytes_io, **kw)\n",
      "c:\\python38-64\\lib\\site-packages\\IPython\\core\\pylabtools.py:152: UserWarning: Glyph 46041 (\\N{HANGUL SYLLABLE DONG}) missing from current font.\n",
      "  fig.canvas.print_figure(bytes_io, **kw)\n",
      "c:\\python38-64\\lib\\site-packages\\IPython\\core\\pylabtools.py:152: UserWarning: Glyph 46321 (\\N{HANGUL SYLLABLE DEUNG}) missing from current font.\n",
      "  fig.canvas.print_figure(bytes_io, **kw)\n",
      "c:\\python38-64\\lib\\site-packages\\IPython\\core\\pylabtools.py:152: UserWarning: Glyph 52492 (\\N{HANGUL SYLLABLE CON}) missing from current font.\n",
      "  fig.canvas.print_figure(bytes_io, **kw)\n",
      "c:\\python38-64\\lib\\site-packages\\IPython\\core\\pylabtools.py:152: UserWarning: Glyph 54868 (\\N{HANGUL SYLLABLE HWA}) missing from current font.\n",
      "  fig.canvas.print_figure(bytes_io, **kw)\n",
      "c:\\python38-64\\lib\\site-packages\\IPython\\core\\pylabtools.py:152: UserWarning: Glyph 44257 (\\N{HANGUL SYLLABLE GOG}) missing from current font.\n",
      "  fig.canvas.print_figure(bytes_io, **kw)\n",
      "c:\\python38-64\\lib\\site-packages\\IPython\\core\\pylabtools.py:152: UserWarning: Glyph 48376 (\\N{HANGUL SYLLABLE BON}) missing from current font.\n",
      "  fig.canvas.print_figure(bytes_io, **kw)\n",
      "c:\\python38-64\\lib\\site-packages\\IPython\\core\\pylabtools.py:152: UserWarning: Glyph 44032 (\\N{HANGUL SYLLABLE GA}) missing from current font.\n",
      "  fig.canvas.print_figure(bytes_io, **kw)\n",
      "c:\\python38-64\\lib\\site-packages\\IPython\\core\\pylabtools.py:152: UserWarning: Glyph 50577 (\\N{HANGUL SYLLABLE YANG}) missing from current font.\n",
      "  fig.canvas.print_figure(bytes_io, **kw)\n",
      "c:\\python38-64\\lib\\site-packages\\IPython\\core\\pylabtools.py:152: UserWarning: Glyph 48156 (\\N{HANGUL SYLLABLE BAL}) missing from current font.\n",
      "  fig.canvas.print_figure(bytes_io, **kw)\n",
      "c:\\python38-64\\lib\\site-packages\\IPython\\core\\pylabtools.py:152: UserWarning: Glyph 49328 (\\N{HANGUL SYLLABLE SAN}) missing from current font.\n",
      "  fig.canvas.print_figure(bytes_io, **kw)\n",
      "c:\\python38-64\\lib\\site-packages\\IPython\\core\\pylabtools.py:152: UserWarning: Glyph 44277 (\\N{HANGUL SYLLABLE GONG}) missing from current font.\n",
      "  fig.canvas.print_figure(bytes_io, **kw)\n",
      "c:\\python38-64\\lib\\site-packages\\IPython\\core\\pylabtools.py:152: UserWarning: Glyph 54637 (\\N{HANGUL SYLLABLE HANG}) missing from current font.\n",
      "  fig.canvas.print_figure(bytes_io, **kw)\n",
      "c:\\python38-64\\lib\\site-packages\\IPython\\core\\pylabtools.py:152: UserWarning: Glyph 48169 (\\N{HANGUL SYLLABLE BANG}) missing from current font.\n",
      "  fig.canvas.print_figure(bytes_io, **kw)\n",
      "c:\\python38-64\\lib\\site-packages\\IPython\\core\\pylabtools.py:152: UserWarning: Glyph 50864 (\\N{HANGUL SYLLABLE U}) missing from current font.\n",
      "  fig.canvas.print_figure(bytes_io, **kw)\n",
      "c:\\python38-64\\lib\\site-packages\\IPython\\core\\pylabtools.py:152: UserWarning: Glyph 51109 (\\N{HANGUL SYLLABLE JANG}) missing from current font.\n",
      "  fig.canvas.print_figure(bytes_io, **kw)\n",
      "c:\\python38-64\\lib\\site-packages\\IPython\\core\\pylabtools.py:152: UserWarning: Glyph 48324 (\\N{HANGUL SYLLABLE BYEOL}) missing from current font.\n",
      "  fig.canvas.print_figure(bytes_io, **kw)\n"
     ]
    },
    {
     "data": {
      "image/png": "[encoded data removed]",
      "text/plain": [
       "<Figure size 640x480 with 1 Axes>"
      ]
     },
     "metadata": {},
     "output_type": "display_data"
    },
    {
     "name": "stdout",
     "output_type": "stream",
     "text": [
      "   동별(3)  2020 2020.1\n",
      "2    염창동  2370   2198\n",
      "3   등촌1동   526    820\n",
      "4   등촌2동   710    940\n",
      "5   등촌3동   859   1209\n",
      "6   화곡본동  1164   1286\n",
      "7   화곡2동   705    742\n",
      "8   화곡3동   736    903\n",
      "9   화곡4동   629    753\n",
      "10  화곡6동   745    931\n",
      "11  화곡8동   746    902\n",
      "12  가양1동   843   1051\n",
      "13  가양2동   192    294\n",
      "14  가양3동   213    376\n",
      "15  발산1동  2459   2547\n",
      "16   공항동   851    891\n",
      "17  방화1동  2179   2051\n",
      "18  방화2동   655    803\n",
      "19  방화3동   757    755\n",
      "20  화곡1동  1129   1407\n",
      "21  우장산동  2794   2691\n"
     ]
    }
   ],
   "source": [
    "import pandas as pd\n",
    "import matplotlib.pyplot as plt\n",
    "\n",
    "# csv 파일 불러오기\n",
    "df = pd.read_csv('C:\\DB\\주민등록인구(연령별_동별)_20230317170259.csv', encoding='utf-8-sig')\n",
    "\n",
    "print(df.columns)\n",
    "\n",
    "\n",
    "#print(data)\n",
    "filtered_df = df[df['항목'] == '계']\n",
    "selected_columns = [\"동별(3)\", \"2020\", \"2020.1\"]\n",
    "count_columns = [\"2020\", \"2020.1\"]\n",
    "data = filtered_df[selected_columns]\n",
    "data_count = filtered_df[count_columns]\n",
    "#print(filtered_df)\n",
    "row_data = data_count.iloc[3:24]\n",
    "\n",
    "\n",
    "data.set_index('동별(3)')[row_data].plot(kind='bar')\n",
    "plt.show()\n",
    "\n",
    "\n",
    "# 결과 출력\n",
    "print(data)\n",
    "\n",
    "#grouped = filtered_df.sum()\n",
    "#grouped.plot(kind='bar')\n",
    "\n",
    "\n",
    "# '동' 컬럼으로 데이터 분류\n",
    "#grouped = data.groupby('동').sum()\n",
    "\n",
    "# 막대그래프 시각화\n",
    "#grouped.plot(kind='bar')\n",
    "#plt.show()\n"
   ]
  },
  {
   "cell_type": "code",
   "execution_count": 2,
   "metadata": {},
   "outputs": [
    {
     "name": "stdout",
     "output_type": "stream",
     "text": [
      "Index(['동별(1)', '동별(2)', '동별(3)', '항목', '2020', '2020.1'], dtype='object')\n"
     ]
    }
   ],
   "source": [
    "import pandas as pd\n",
    "import matplotlib.pyplot as plt\n",
    "\n",
    "# csv 파일 불러오기\n",
    "df = pd.read_csv('C:\\DB\\주민등록인구(연령별_동별)_20230317170259.csv', encoding='utf-8-sig')\n",
    "\n",
    "print(df.columns)\n"
   ]
  },
  {
   "cell_type": "code",
   "execution_count": 3,
   "metadata": {},
   "outputs": [],
   "source": [
    "filtered_df = df[df['항목'] == '계']"
   ]
  },
  {
   "cell_type": "code",
   "execution_count": 4,
   "metadata": {},
   "outputs": [],
   "source": [
    "data = filtered_df[selected_columns]\n"
   ]
  },
  {
   "cell_type": "code",
   "execution_count": 5,
   "metadata": {},
   "outputs": [],
   "source": [
    "data = filtered_df[selected_columns]\n"
   ]
  },
  {
   "cell_type": "code",
   "execution_count": 6,
   "metadata": {},
   "outputs": [
    {
     "name": "stdout",
     "output_type": "stream",
     "text": [
      "   동별(3)  2020 2020.1\n",
      "2    염창동  2370   2198\n",
      "3   등촌1동   526    820\n",
      "4   등촌2동   710    940\n",
      "5   등촌3동   859   1209\n",
      "6   화곡본동  1164   1286\n",
      "7   화곡2동   705    742\n",
      "8   화곡3동   736    903\n",
      "9   화곡4동   629    753\n",
      "10  화곡6동   745    931\n",
      "11  화곡8동   746    902\n",
      "12  가양1동   843   1051\n",
      "13  가양2동   192    294\n",
      "14  가양3동   213    376\n",
      "15  발산1동  2459   2547\n",
      "16   공항동   851    891\n",
      "17  방화1동  2179   2051\n",
      "18  방화2동   655    803\n",
      "19  방화3동   757    755\n",
      "20  화곡1동  1129   1407\n",
      "21  우장산동  2794   2691\n"
     ]
    }
   ],
   "source": [
    "print(data)\n"
   ]
  },
  {
   "cell_type": "code",
   "execution_count": 7,
   "metadata": {},
   "outputs": [
    {
     "ename": "KeyError",
     "evalue": "\"None of ['동별(3)'] are in the columns\"",
     "output_type": "error",
     "traceback": [
      "\u001b[1;31m---------------------------------------------------------------------------\u001b[0m",
      "\u001b[1;31mKeyError\u001b[0m                                  Traceback (most recent call last)",
      "Cell \u001b[1;32mIn[7], line 2\u001b[0m\n\u001b[0;32m      1\u001b[0m row_data \u001b[39m=\u001b[39m data\u001b[39m.\u001b[39miloc[\u001b[39m2\u001b[39m:, \u001b[39m1\u001b[39m:]  \u001b[39m# 첫 번째 행(인덱스 0)은 제외하고, 첫 번째 열(인덱스 0)도 제외하고 데이터 추출\u001b[39;00m\n\u001b[1;32m----> 2\u001b[0m row_data\u001b[39m.\u001b[39;49mset_index(\u001b[39m'\u001b[39;49m\u001b[39m동별(3)\u001b[39;49m\u001b[39m'\u001b[39;49m, inplace\u001b[39m=\u001b[39;49m\u001b[39mTrue\u001b[39;49;00m)  \u001b[39m# \"동별(3)\" 열을 인덱스로 설정\u001b[39;00m\n\u001b[0;32m      3\u001b[0m row_data\u001b[39m.\u001b[39mplot(kind\u001b[39m=\u001b[39m\u001b[39m'\u001b[39m\u001b[39mbar\u001b[39m\u001b[39m'\u001b[39m)\n\u001b[0;32m      4\u001b[0m plt\u001b[39m.\u001b[39mshow()\n",
      "File \u001b[1;32mc:\\python38-64\\lib\\site-packages\\pandas\\util\\_decorators.py:331\u001b[0m, in \u001b[0;36mdeprecate_nonkeyword_arguments.<locals>.decorate.<locals>.wrapper\u001b[1;34m(*args, **kwargs)\u001b[0m\n\u001b[0;32m    325\u001b[0m \u001b[39mif\u001b[39;00m \u001b[39mlen\u001b[39m(args) \u001b[39m>\u001b[39m num_allow_args:\n\u001b[0;32m    326\u001b[0m     warnings\u001b[39m.\u001b[39mwarn(\n\u001b[0;32m    327\u001b[0m         msg\u001b[39m.\u001b[39mformat(arguments\u001b[39m=\u001b[39m_format_argument_list(allow_args)),\n\u001b[0;32m    328\u001b[0m         \u001b[39mFutureWarning\u001b[39;00m,\n\u001b[0;32m    329\u001b[0m         stacklevel\u001b[39m=\u001b[39mfind_stack_level(),\n\u001b[0;32m    330\u001b[0m     )\n\u001b[1;32m--> 331\u001b[0m \u001b[39mreturn\u001b[39;00m func(\u001b[39m*\u001b[39;49margs, \u001b[39m*\u001b[39;49m\u001b[39m*\u001b[39;49mkwargs)\n",
      "File \u001b[1;32mc:\\python38-64\\lib\\site-packages\\pandas\\core\\frame.py:6012\u001b[0m, in \u001b[0;36mDataFrame.set_index\u001b[1;34m(self, keys, drop, append, inplace, verify_integrity)\u001b[0m\n\u001b[0;32m   6009\u001b[0m                 missing\u001b[39m.\u001b[39mappend(col)\n\u001b[0;32m   6011\u001b[0m \u001b[39mif\u001b[39;00m missing:\n\u001b[1;32m-> 6012\u001b[0m     \u001b[39mraise\u001b[39;00m \u001b[39mKeyError\u001b[39;00m(\u001b[39mf\u001b[39m\u001b[39m\"\u001b[39m\u001b[39mNone of \u001b[39m\u001b[39m{\u001b[39;00mmissing\u001b[39m}\u001b[39;00m\u001b[39m are in the columns\u001b[39m\u001b[39m\"\u001b[39m)\n\u001b[0;32m   6014\u001b[0m \u001b[39mif\u001b[39;00m inplace:\n\u001b[0;32m   6015\u001b[0m     frame \u001b[39m=\u001b[39m \u001b[39mself\u001b[39m\n",
      "\u001b[1;31mKeyError\u001b[0m: \"None of ['동별(3)'] are in the columns\""
     ]
    }
   ],
   "source": [
    "row_data = data.iloc[2:, 1:]  # 첫 번째 행(인덱스 0)은 제외하고, 첫 번째 열(인덱스 0)도 제외하고 데이터 추출\n",
    "row_data.set_index('동별(3)', inplace=True)  # \"동별(3)\" 열을 인덱스로 설정\n",
    "row_data.plot(kind='bar')\n",
    "plt.show()\n"
   ]
  },
  {
   "cell_type": "code",
   "execution_count": null,
   "metadata": {},
   "outputs": [],
   "source": [
    "import pandas as pd\n",
    "import matplotlib.pyplot as plt\n",
    "\n",
    "# csv 파일 불러오기\n",
    "df = pd.read_csv('C:\\DB\\주민등록인구(연령별_동별)_20230317170259.csv', encoding='utf-8-sig')\n",
    "\n",
    "print(df.columns)\n",
    "\n",
    "\n",
    "#print(data)\n",
    "filtered_df = df[df['항목'] == '계']\n",
    "selected_columns = [\"동별(3)\", \"2020\", \"2020.1\"]\n",
    "count_columns = [\"2020\", \"2020.1\"]\n",
    "data = filtered_df[selected_columns]\n",
    "data_count = filtered_df[count_columns]\n",
    "#print(filtered_df)\n",
    "row_data = data_count.iloc[3:24]\n",
    "\n",
    "\n",
    "#data.set_index('동별(3)')[row_data].plot(kind='bar')\n",
    "#plt.show()\n",
    "\n",
    "\n",
    "# 결과 출력\n",
    "#print(data)\n",
    "\n",
    "#grouped = filtered_df.sum()\n",
    "#grouped.plot(kind='bar')\n",
    "\n",
    "\n",
    "# '동' 컬럼으로 데이터 분류\n",
    "#grouped = data.groupby('동').sum()\n",
    "\n",
    "# 막대그래프 시각화\n",
    "#grouped.plot(kind='bar')\n",
    "#plt.show()\n"
   ]
  },
  {
   "cell_type": "code",
   "execution_count": 8,
   "metadata": {},
   "outputs": [
    {
     "ename": "KeyError",
     "evalue": "\"None of ['동별(3)'] are in the columns\"",
     "output_type": "error",
     "traceback": [
      "\u001b[1;31m---------------------------------------------------------------------------\u001b[0m",
      "\u001b[1;31mKeyError\u001b[0m                                  Traceback (most recent call last)",
      "Cell \u001b[1;32mIn[8], line 2\u001b[0m\n\u001b[0;32m      1\u001b[0m row_data \u001b[39m=\u001b[39m data\u001b[39m.\u001b[39miloc[\u001b[39m2\u001b[39m:, \u001b[39m1\u001b[39m:]  \u001b[39m# 첫 번째 행(인덱스 0)은 제외하고, 첫 번째 열(인덱스 0)도 제외하고 데이터 추출\u001b[39;00m\n\u001b[1;32m----> 2\u001b[0m row_data\u001b[39m.\u001b[39;49mset_index(\u001b[39m'\u001b[39;49m\u001b[39m동별(3)\u001b[39;49m\u001b[39m'\u001b[39;49m, inplace\u001b[39m=\u001b[39;49m\u001b[39mTrue\u001b[39;49;00m)  \u001b[39m# \"동별(3)\" 열을 인덱스로 설정\u001b[39;00m\n\u001b[0;32m      3\u001b[0m row_data\u001b[39m.\u001b[39mplot(kind\u001b[39m=\u001b[39m\u001b[39m'\u001b[39m\u001b[39mbar\u001b[39m\u001b[39m'\u001b[39m)\n\u001b[0;32m      4\u001b[0m plt\u001b[39m.\u001b[39mshow()\n",
      "File \u001b[1;32mc:\\python38-64\\lib\\site-packages\\pandas\\util\\_decorators.py:331\u001b[0m, in \u001b[0;36mdeprecate_nonkeyword_arguments.<locals>.decorate.<locals>.wrapper\u001b[1;34m(*args, **kwargs)\u001b[0m\n\u001b[0;32m    325\u001b[0m \u001b[39mif\u001b[39;00m \u001b[39mlen\u001b[39m(args) \u001b[39m>\u001b[39m num_allow_args:\n\u001b[0;32m    326\u001b[0m     warnings\u001b[39m.\u001b[39mwarn(\n\u001b[0;32m    327\u001b[0m         msg\u001b[39m.\u001b[39mformat(arguments\u001b[39m=\u001b[39m_format_argument_list(allow_args)),\n\u001b[0;32m    328\u001b[0m         \u001b[39mFutureWarning\u001b[39;00m,\n\u001b[0;32m    329\u001b[0m         stacklevel\u001b[39m=\u001b[39mfind_stack_level(),\n\u001b[0;32m    330\u001b[0m     )\n\u001b[1;32m--> 331\u001b[0m \u001b[39mreturn\u001b[39;00m func(\u001b[39m*\u001b[39;49margs, \u001b[39m*\u001b[39;49m\u001b[39m*\u001b[39;49mkwargs)\n",
      "File \u001b[1;32mc:\\python38-64\\lib\\site-packages\\pandas\\core\\frame.py:6012\u001b[0m, in \u001b[0;36mDataFrame.set_index\u001b[1;34m(self, keys, drop, append, inplace, verify_integrity)\u001b[0m\n\u001b[0;32m   6009\u001b[0m                 missing\u001b[39m.\u001b[39mappend(col)\n\u001b[0;32m   6011\u001b[0m \u001b[39mif\u001b[39;00m missing:\n\u001b[1;32m-> 6012\u001b[0m     \u001b[39mraise\u001b[39;00m \u001b[39mKeyError\u001b[39;00m(\u001b[39mf\u001b[39m\u001b[39m\"\u001b[39m\u001b[39mNone of \u001b[39m\u001b[39m{\u001b[39;00mmissing\u001b[39m}\u001b[39;00m\u001b[39m are in the columns\u001b[39m\u001b[39m\"\u001b[39m)\n\u001b[0;32m   6014\u001b[0m \u001b[39mif\u001b[39;00m inplace:\n\u001b[0;32m   6015\u001b[0m     frame \u001b[39m=\u001b[39m \u001b[39mself\u001b[39m\n",
      "\u001b[1;31mKeyError\u001b[0m: \"None of ['동별(3)'] are in the columns\""
     ]
    }
   ],
   "source": [
    "row_data = data.iloc[2:, 1:]  # 첫 번째 행(인덱스 0)은 제외하고, 첫 번째 열(인덱스 0)도 제외하고 데이터 추출\n",
    "row_data.set_index('동별(3)', inplace=True)  # \"동별(3)\" 열을 인덱스로 설정\n",
    "row_data.plot(kind='bar')\n",
    "plt.show()"
   ]
  },
  {
   "cell_type": "code",
   "execution_count": 14,
   "metadata": {},
   "outputs": [
    {
     "name": "stdout",
     "output_type": "stream",
     "text": [
      "Index(['동별(1)', '동별(2)', '동별(3)', '항목', '2020', '2020.1'], dtype='object')\n",
      "    2020 2020.1\n",
      "4    710    940\n",
      "5    859   1209\n",
      "6   1164   1286\n",
      "7    705    742\n",
      "8    736    903\n",
      "9    629    753\n",
      "10   745    931\n",
      "11   746    902\n",
      "12   843   1051\n",
      "13   192    294\n",
      "14   213    376\n",
      "15  2459   2547\n",
      "16   851    891\n",
      "17  2179   2051\n",
      "18   655    803\n",
      "19   757    755\n",
      "20  1129   1407\n",
      "21  2794   2691\n"
     ]
    }
   ],
   "source": [
    "import pandas as pd\n",
    "import matplotlib.pyplot as plt\n",
    "\n",
    "# csv 파일 불러오기\n",
    "df = pd.read_csv('C:\\DB\\주민등록인구(연령별_동별)_20230317170259.csv', encoding='utf-8-sig')\n",
    "\n",
    "print(df.columns)\n",
    "\n",
    "\n",
    "#print(data)\n",
    "filtered_df = df[df['항목'] == '계']\n",
    "selected_columns = [\"동별(3)\", \"2020\", \"2020.1\"]\n",
    "count_columns = [\"2020\", \"2020.1\"]\n",
    "data = filtered_df[selected_columns]\n",
    "data_count = filtered_df[count_columns]\n",
    "#print(filtered_df)\n",
    "row_data = data.iloc[2:, 1:]\n",
    "print(row_data)\n",
    "#row_data.set_index('동별(3)', inplace=True)\n",
    "\n",
    "\n",
    "#data.set_index('동별(3)')[row_data].plot(kind='bar')\n",
    "#plt.show()\n",
    "\n",
    "\n",
    "# 결과 출력\n",
    "#print(data)\n",
    "\n",
    "#grouped = filtered_df.sum()\n",
    "#grouped.plot(kind='bar')\n",
    "\n",
    "\n",
    "# '동' 컬럼으로 데이터 분류\n",
    "#grouped = data.groupby('동').sum()\n",
    "\n",
    "# 막대그래프 시각화\n",
    "#grouped.plot(kind='bar')\n",
    "#plt.show()\n"
   ]
  },
  {
   "cell_type": "code",
   "execution_count": null,
   "metadata": {},
   "outputs": [],
   "source": []
  }
 ],
 "metadata": {
  "kernelspec": {
   "display_name": "Python 3",
   "language": "python",
   "name": "python3"
  },
  "language_info": {
   "codemirror_mode": {
    "name": "ipython",
    "version": 3
   },
   "file_extension": ".py",
   "mimetype": "text/x-python",
   "name": "python",
   "nbconvert_exporter": "python",
   "pygments_lexer": "ipython3",
   "version": "3.8.9"
  },
  "orig_nbformat": 4
 },
 "nbformat": 4,
 "nbformat_minor": 2
}
